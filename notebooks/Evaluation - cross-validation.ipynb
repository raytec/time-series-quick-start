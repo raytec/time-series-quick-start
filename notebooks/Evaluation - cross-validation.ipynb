{
 "cells": [
  {
   "cell_type": "code",
   "execution_count": 27,
   "metadata": {},
   "outputs": [
    {
     "data": {
      "application/javascript": [
       "IPython.OutputArea.prototype._should_scroll = function(lines) {\n",
       "    return false;\n",
       "}\n"
      ],
      "text/plain": [
       "<IPython.core.display.Javascript object>"
      ]
     },
     "metadata": {},
     "output_type": "display_data"
    }
   ],
   "source": [
    "%%javascript\n",
    "IPython.OutputArea.prototype._should_scroll = function(lines) {\n",
    "    return false;\n",
    "}"
   ]
  },
  {
   "cell_type": "code",
   "execution_count": 28,
   "metadata": {},
   "outputs": [
    {
     "name": "stdout",
     "output_type": "stream",
     "text": [
      "Checking whether there is an H2O instance running at http://local.h2o.air_data:54321. connected.\n"
     ]
    },
    {
     "data": {
      "text/html": [
       "<div style=\"overflow:auto\"><table style=\"width:50%\"><tr><td>H2O cluster uptime:</td>\n",
       "<td>2 days 2 hours 14 mins</td></tr>\n",
       "<tr><td>H2O cluster timezone:</td>\n",
       "<td>Etc/UTC</td></tr>\n",
       "<tr><td>H2O data parsing timezone:</td>\n",
       "<td>UTC</td></tr>\n",
       "<tr><td>H2O cluster version:</td>\n",
       "<td>3.22.1.1</td></tr>\n",
       "<tr><td>H2O cluster version age:</td>\n",
       "<td>2 months and 17 days </td></tr>\n",
       "<tr><td>H2O cluster name:</td>\n",
       "<td>root</td></tr>\n",
       "<tr><td>H2O cluster total nodes:</td>\n",
       "<td>1</td></tr>\n",
       "<tr><td>H2O cluster free memory:</td>\n",
       "<td>10.27 Gb</td></tr>\n",
       "<tr><td>H2O cluster total cores:</td>\n",
       "<td>4</td></tr>\n",
       "<tr><td>H2O cluster allowed cores:</td>\n",
       "<td>4</td></tr>\n",
       "<tr><td>H2O cluster status:</td>\n",
       "<td>locked, healthy</td></tr>\n",
       "<tr><td>H2O connection url:</td>\n",
       "<td>http://local.h2o.air_data:54321</td></tr>\n",
       "<tr><td>H2O connection proxy:</td>\n",
       "<td>None</td></tr>\n",
       "<tr><td>H2O internal security:</td>\n",
       "<td>False</td></tr>\n",
       "<tr><td>H2O API Extensions:</td>\n",
       "<td>XGBoost, Algos, AutoML, Core V3, Core V4</td></tr>\n",
       "<tr><td>Python version:</td>\n",
       "<td>3.6.7 final</td></tr></table></div>"
      ],
      "text/plain": [
       "--------------------------  ----------------------------------------\n",
       "H2O cluster uptime:         2 days 2 hours 14 mins\n",
       "H2O cluster timezone:       Etc/UTC\n",
       "H2O data parsing timezone:  UTC\n",
       "H2O cluster version:        3.22.1.1\n",
       "H2O cluster version age:    2 months and 17 days\n",
       "H2O cluster name:           root\n",
       "H2O cluster total nodes:    1\n",
       "H2O cluster free memory:    10.27 Gb\n",
       "H2O cluster total cores:    4\n",
       "H2O cluster allowed cores:  4\n",
       "H2O cluster status:         locked, healthy\n",
       "H2O connection url:         http://local.h2o.air_data:54321\n",
       "H2O connection proxy:\n",
       "H2O internal security:      False\n",
       "H2O API Extensions:         XGBoost, Algos, AutoML, Core V3, Core V4\n",
       "Python version:             3.6.7 final\n",
       "--------------------------  ----------------------------------------"
      ]
     },
     "metadata": {},
     "output_type": "display_data"
    }
   ],
   "source": [
    "import h2o\n",
    "import mpld3\n",
    "mpld3.enable_notebook()\n",
    "import matplotlib.pyplot as plt\n",
    "from src import measure_repository\n",
    "from src import repository_adapter\n",
    "from matplotlib.dates import  DateFormatter\n",
    "from matplotlib.dates import YearLocator\n",
    "from scipy.ndimage import gaussian_filter\n",
    "import numpy as np\n",
    "\n",
    "h2o.init(ip=\"local.h2o.air_data\", port=54321)"
   ]
  },
  {
   "cell_type": "code",
   "execution_count": 39,
   "metadata": {},
   "outputs": [],
   "source": [
    "import pandas as pd\n",
    "from sklearn.model_selection import TimeSeriesSplit\n",
    "\n",
    "\n",
    "def validate(metering_point_id):\n",
    "    \n",
    "    \n",
    "    initial_dataset = repository_adapter.run_sql(\n",
    "        \"\"\" SELECT\n",
    "                am.result as value,\n",
    "                #date,\n",
    "                HOUR(am.date) as hour,\n",
    "                MONTH(am.date) as month,\n",
    "                WEEKDAY(am.date)+1 as weekday,\n",
    "                WEEK(am.date) as week\n",
    "            FROM air.air_quality_measures am\n",
    "            INNER JOIN air.weather_measures wm\n",
    "                ON am.date = wm.time\n",
    "            WHERE \n",
    "                am.metering_point_id = %s\n",
    "                AND am.result IS NOT NULL\n",
    "                AND YEAR(am.date) IN (2015, 2016, 2017)\n",
    "                #AND MONTH(am.date) IN (1)\n",
    "            ORDER BY am.date ASC\n",
    "            ;\"\"\" % (metering_point_id),\n",
    "        [\n",
    "            \"value\", \n",
    "            \"hour\", \n",
    "            \"month\", \n",
    "            \"weekday\", \n",
    "            \"week\",\n",
    "        ]\n",
    "    )\n",
    "\n",
    "    x = initial_dataset.iloc[:, 1:]\n",
    "    y = initial_dataset.iloc[:, [0]]\n",
    "\n",
    "    cross_validate(\n",
    "        x,\n",
    "        y,\n",
    "        12,\n",
    "        lambda x, y, train_dataset, validation_dataset: train_with_plots(x, y, train_dataset, validation_dataset)\n",
    "    )\n",
    "    \n",
    "def cross_validate(X: pd.DataFrame, y: pd.DataFrame, splits: int, callback):\n",
    "\n",
    "    tscv = TimeSeriesSplit(n_splits=splits)\n",
    "    for train_index, test_index in tscv.split(X):\n",
    "        X_train = pd.DataFrame(X.values[train_index], columns=X.columns.values)\n",
    "        X_test = pd.DataFrame(X.values[test_index], columns=X.columns.values)\n",
    "        y_train = pd.DataFrame(y.values[train_index], columns=y.columns.values)\n",
    "        y_test = pd.DataFrame(y.values[test_index], columns=y.columns.values)\n",
    "\n",
    "        train_dataset = y_train.join(X_train)\n",
    "        validation_dataset = y_test.join(X_test)\n",
    "\n",
    "        callback(X, y, train_dataset, validation_dataset)\n",
    "        \n",
    "        \n",
    "def train_with_plots(x, y, train_dataset, validation_dataset):\n",
    "\n",
    "    training_frame = h2o.H2OFrame(training_dataset.values)\n",
    "    training_frame.set_names(training_dataset.columns.values.tolist())\n",
    "    validation_frame = h2o.H2OFrame(validation_dataset.values)\n",
    "    validation_frame.set_names(validation_dataset.columns.values.tolist())\n",
    "\n",
    "    columns = training_frame.columns\n",
    "    columns.pop(0)\n",
    "    X = columns\n",
    "    Y = 'value'\n",
    "\n",
    "\n",
    "    model = H2OXGBoostEstimator(\n",
    "        ntrees=200\n",
    "         , max_depth=10\n",
    "        , learn_rate=0.01\n",
    "        , sample_rate=0.8\n",
    "        , backend=\"cpu\"\n",
    "    )\n",
    "\n",
    "\n",
    "    model.train(x=X, y=Y, training_frame=training_frame, validation_frame=validation_frame)\n",
    "    y_pred = model.predict(validation_frame)\n",
    "\n",
    "    y_test = validation_dataset.iloc[:, 0].values\n",
    "    x_test = validation_dataset.iloc[:, 1].values\n",
    "\n",
    "    plt.figure(figsize=(13, 6))\n",
    "    step = (float(y_test.max()) - float(y_test.min())) / 10.0\n",
    "    plt.yticks(np.arange(float(y_test.min()), float(y_test.max()), step))\n",
    "    plt.plot(y_test, color='red')\n",
    "    plt.plot(y_pred.as_data_frame().values, color='green')\n",
    "#     plt.plot(y, color='blue')\n",
    "    plt.show()\n",
    "\n",
    "\n",
    "# validate(2)\n"
   ]
  },
  {
   "cell_type": "code",
   "execution_count": null,
   "metadata": {},
   "outputs": [],
   "source": []
  }
 ],
 "metadata": {
  "kernelspec": {
   "display_name": "Python 3",
   "language": "python",
   "name": "python3"
  },
  "language_info": {
   "codemirror_mode": {
    "name": "ipython",
    "version": 3
   },
   "file_extension": ".py",
   "mimetype": "text/x-python",
   "name": "python",
   "nbconvert_exporter": "python",
   "pygments_lexer": "ipython3",
   "version": "3.6.7"
  }
 },
 "nbformat": 4,
 "nbformat_minor": 2
}
