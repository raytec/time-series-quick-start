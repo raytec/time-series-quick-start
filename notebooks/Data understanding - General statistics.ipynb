{
 "cells": [
  {
   "cell_type": "code",
   "execution_count": 2,
   "metadata": {},
   "outputs": [
    {
     "data": {
      "application/javascript": [
       "IPython.OutputArea.prototype._should_scroll = function(lines) {\n",
       "    return false;\n",
       "}\n"
      ],
      "text/plain": [
       "<IPython.core.display.Javascript object>"
      ]
     },
     "metadata": {},
     "output_type": "display_data"
    }
   ],
   "source": [
    "%%javascript\n",
    "IPython.OutputArea.prototype._should_scroll = function(lines) {\n",
    "    return false;\n",
    "}"
   ]
  },
  {
   "cell_type": "code",
   "execution_count": 3,
   "metadata": {},
   "outputs": [],
   "source": [
    "import mpld3\n",
    "mpld3.enable_notebook()\n",
    "import matplotlib.pyplot as plt\n",
    "from src import measure_repository\n",
    "from src import repository_adapter\n",
    "from matplotlib.dates import  DateFormatter\n",
    "from matplotlib.dates import YearLocator\n",
    "from scipy.ndimage import gaussian_filter\n",
    "import numpy as np\n"
   ]
  },
  {
   "cell_type": "markdown",
   "metadata": {},
   "source": [
    "# What kind of data do we have"
   ]
  },
  {
   "cell_type": "code",
   "execution_count": 10,
   "metadata": {},
   "outputs": [
    {
     "name": "stdout",
     "output_type": "stream",
     "text": [
      "          Tables_in_air\n",
      "0   air_metering_points\n",
      "1  air_quality_measures\n",
      "2               weather\n",
      "\n",
      "    id             name\n",
      "0    1     DsJelGorOgin\n",
      "1    2     DsWrocAlWisn\n",
      "2    3     DsWrocWybCon\n",
      "3    4     KpBydPlPozna\n",
      "4    5     KpBydWarszaw\n",
      "5    6     KpToruDziewu\n",
      "6    7     LbLubObywate\n",
      "7    8     LdLodzCzerni\n",
      "8    9     LdLodzGdansk\n",
      "9   10     LdZgieMielcz\n",
      "10  11     LuZielKrotka\n",
      "11  12     MpKrakAlKras\n",
      "12  13     MpKrakBujaka\n",
      "13  14     MpKrakBulwar\n",
      "14  15     MpTarRoSitko\n",
      "15  16      MzKonJezMos\n",
      "16  17     MzLegZegrzyn\n",
      "17  18     MzOtwoBrzozo\n",
      "18  19     MzPiasPulask\n",
      "19  20     MzPlocMiReja\n",
      "20  21     MzRadTochter\n",
      "21  22     MzSiedKonars\n",
      "22  23     MzWarAlNiepo\n",
      "23  24     MzWarKondrat\n",
      "24  25     MzWarMarszal\n",
      "25  26     MzWarWokalna\n",
      "26  27     MzZyraRoosev\n",
      "27  28     OpKKozBSmial\n",
      "28  29  PdAugustoZdrMOB\n",
      "29  30     PdBialWaszyn\n",
      "30  31  PdHajnowkJagMOB\n",
      "31  32     PdSuwPulaski\n",
      "32  33     PkMielBierna\n",
      "33  34     PkMielSolski\n",
      "34  35     PkPrzemGrunw\n",
      "35  36     PkRymZdrPark\n",
      "36  37     PmGdaLeczk08\n",
      "37  38     PmKosTargo12\n",
      "38  39     SkKielJagiel\n",
      "39  40     SkMalo11List\n",
      "40  41     SkPolaRuszcz\n",
      "41  42     SlGliwicMewy\n",
      "42  43     SlKatoKossut\n",
      "43  44     SlZlotPotLes\n",
      "44  45     WmOlsPuszkin\n",
      "45  46     WpKaliSawick\n",
      "46  47     WpPoznPolank\n",
      "47  48     ZpSzczAndr01\n",
      "48  49     ZpSzczPils02\n",
      "\n",
      "     id measure_type                 date   result metering_point_id\n",
      "0     1          666  2015-01-01 01:00:00  151.000                 1\n",
      "1     2          666  2015-01-01 01:00:00   78.000                 2\n",
      "2     3          666  2015-01-01 01:00:00   50.000                 3\n",
      "3     4          666  2015-01-01 01:00:00   29.000                 4\n",
      "4     5          666  2015-01-01 01:00:00   96.000                 5\n",
      "5     6          666  2015-01-01 01:00:00   27.000                 6\n",
      "6     7          666  2015-01-01 01:00:00   71.000                 7\n",
      "7     8          666  2015-01-01 01:00:00   60.000                 8\n",
      "8     9          666  2015-01-01 01:00:00     None                 9\n",
      "9    10          666  2015-01-01 01:00:00   59.000                10\n",
      "10   11          666  2015-01-01 01:00:00     None                11\n",
      "11   12          666  2015-01-01 01:00:00   73.000                12\n",
      "12   13          666  2015-01-01 01:00:00   88.000                13\n",
      "13   14          666  2015-01-01 01:00:00   58.000                14\n",
      "14   15          666  2015-01-01 01:00:00   50.000                17\n",
      "15   16          666  2015-01-01 01:00:00   54.000                19\n",
      "16   17          666  2015-01-01 01:00:00   47.000                20\n",
      "17   18          666  2015-01-01 01:00:00   55.000                21\n",
      "18   19          666  2015-01-01 01:00:00   44.000                22\n",
      "19   20          666  2015-01-01 01:00:00   72.000                23\n",
      "20   21          666  2015-01-01 01:00:00   78.000                24\n",
      "21   22          666  2015-01-01 01:00:00   69.000                26\n",
      "22   23          666  2015-01-01 01:00:00   86.000                27\n",
      "23   24          666  2015-01-01 01:00:00   43.000                28\n",
      "24   25          666  2015-01-01 01:00:00   67.000                30\n",
      "25   26          666  2015-01-01 01:00:00     None                31\n",
      "26   27          666  2015-01-01 01:00:00   29.000                32\n",
      "27   28          666  2015-01-01 01:00:00   56.000                34\n",
      "28   29          666  2015-01-01 01:00:00   19.000                35\n",
      "29   30          666  2015-01-01 01:00:00     None                37\n",
      "..  ...          ...                  ...      ...               ...\n",
      "70   71          666  2015-01-01 02:00:00   16.000                35\n",
      "71   72          666  2015-01-01 02:00:00   76.000                37\n",
      "72   73          666  2015-01-01 02:00:00     None                38\n",
      "73   74          666  2015-01-01 02:00:00   62.000                39\n",
      "74   75          666  2015-01-01 02:00:00   34.000                40\n",
      "75   76          666  2015-01-01 02:00:00   57.000                41\n",
      "76   77          666  2015-01-01 02:00:00   50.000                42\n",
      "77   78          666  2015-01-01 02:00:00   38.000                43\n",
      "78   79          666  2015-01-01 02:00:00   46.000                44\n",
      "79   80          666  2015-01-01 02:00:00   50.000                45\n",
      "80   81          666  2015-01-01 02:00:00   33.000                46\n",
      "81   82          666  2015-01-01 02:00:00   30.000                47\n",
      "82   83          666  2015-01-01 02:00:00   82.000                48\n",
      "83   84          666  2015-01-01 02:00:00  215.000                49\n",
      "84   85          666  2015-01-01 03:00:00  223.000                 1\n",
      "85   86          666  2015-01-01 03:00:00   27.000                 2\n",
      "86   87          666  2015-01-01 03:00:00   29.000                 3\n",
      "87   88          666  2015-01-01 03:00:00    8.000                 4\n",
      "88   89          666  2015-01-01 03:00:00   24.000                 5\n",
      "89   90          666  2015-01-01 03:00:00   21.000                 6\n",
      "90   91          666  2015-01-01 03:00:00   50.000                 7\n",
      "91   92          666  2015-01-01 03:00:00   54.000                 8\n",
      "92   93          666  2015-01-01 03:00:00     None                 9\n",
      "93   94          666  2015-01-01 03:00:00   24.000                10\n",
      "94   95          666  2015-01-01 03:00:00   16.000                11\n",
      "95   96          666  2015-01-01 03:00:00   61.000                12\n",
      "96   97          666  2015-01-01 03:00:00   50.000                13\n",
      "97   98          666  2015-01-01 03:00:00   48.000                14\n",
      "98   99          666  2015-01-01 03:00:00   43.000                17\n",
      "99  100          666  2015-01-01 03:00:00   48.000                19\n",
      "\n",
      "[100 rows x 5 columns]\n"
     ]
    }
   ],
   "source": [
    "result = repository_adapter.run_sql(\n",
    "    \"\"\" SHOW TABLES\n",
    "        ;\n",
    "        ;\"\"\",\n",
    "    [\"Tables_in_air\"]\n",
    ")\n",
    "print(result)\n",
    "print('')\n",
    "\n",
    "result = repository_adapter.run_sql(\n",
    "    \"\"\" SELECT *\n",
    "        FROM air.air_metering_points\n",
    "        ;\n",
    "        ;\"\"\",\n",
    "    [\"id\", \"name\"]\n",
    ")\n",
    "print(result)\n",
    "print('')\n",
    "\n",
    "result = repository_adapter.run_sql(\n",
    "    \"\"\" SELECT *\n",
    "        FROM air.air_quality_measures\n",
    "        \n",
    "        ORDER BY date ASC LIMIT 100;\n",
    "        ;\"\"\",\n",
    "    [\"id\", \"measure_type\", \"date\", \"result\", \"metering_point_id\"]\n",
    ")\n",
    "print(result)\n",
    "\n"
   ]
  },
  {
   "cell_type": "markdown",
   "metadata": {},
   "source": [
    "# How much data do we have"
   ]
  },
  {
   "cell_type": "code",
   "execution_count": 11,
   "metadata": {
    "scrolled": true
   },
   "outputs": [
    {
     "name": "stdout",
     "output_type": "stream",
     "text": [
      "Sumaryczna ilosc pomiarow dla wszystkich punktow pomiarowych\n",
      "     value\n",
      "0  1148592\n",
      "\n"
     ]
    }
   ],
   "source": [
    "result = repository_adapter.run_sql(\n",
    "    \"\"\" SELECT  count(*) as value\n",
    "        FROM air.air_quality_measures\n",
    "        ;\n",
    "        ;\"\"\",\n",
    "    [\"value\"]\n",
    ")\n",
    "print('Sumaryczna ilosc pomiarow dla wszystkich punktow pomiarowych')\n",
    "print(result)\n",
    "print('')\n"
   ]
  },
  {
   "cell_type": "code",
   "execution_count": 12,
   "metadata": {},
   "outputs": [
    {
     "name": "stdout",
     "output_type": "stream",
     "text": [
      "Sumaryczna ilosc pomiarow per punkt pomiarowy\n",
      "    metering_point_id  value\n",
      "0                   1  26304\n",
      "1                   2  26304\n",
      "2                   3  26304\n",
      "3                   4  26304\n",
      "4                   5  26304\n",
      "5                   6  26304\n",
      "6                   7  26304\n",
      "7                   8  26304\n",
      "8                   9  26304\n",
      "9                  10  26304\n",
      "10                 11  26304\n",
      "11                 12  26304\n",
      "12                 13  26304\n",
      "13                 14  26304\n",
      "14                 15   8760\n",
      "15                 16   8760\n",
      "16                 17  26304\n",
      "17                 18   8760\n",
      "18                 19  26304\n",
      "19                 20  26304\n",
      "20                 21  26304\n",
      "21                 22  26304\n",
      "22                 23  26304\n",
      "23                 24  17544\n",
      "24                 25  17544\n",
      "25                 26  26304\n",
      "26                 27  26304\n",
      "27                 28  26304\n",
      "28                 29   8760\n",
      "29                 30  26304\n",
      "30                 31  17544\n",
      "31                 32  26304\n",
      "32                 33   8760\n",
      "33                 34  17544\n",
      "34                 35  26304\n",
      "35                 36   8760\n",
      "36                 37  26304\n",
      "37                 38  26304\n",
      "38                 39  26304\n",
      "39                 40  26304\n",
      "40                 41  26304\n",
      "41                 42  26304\n",
      "42                 43  26304\n",
      "43                 44  26304\n",
      "44                 45  26304\n",
      "45                 46  26304\n",
      "46                 47  26304\n",
      "47                 48  26304\n",
      "48                 49  26304\n",
      "\n"
     ]
    }
   ],
   "source": [
    "result = repository_adapter.run_sql(\n",
    "    \"\"\" SELECT  metering_point_id, count(*) as value\n",
    "        FROM air.air_quality_measures\n",
    "        GROUP BY metering_point_id\n",
    "        ;\n",
    "        ;\"\"\",\n",
    "    [\"metering_point_id\", \"value\"]\n",
    ")\n",
    "print('Sumaryczna ilosc pomiarow per punkt pomiarowy')\n",
    "print(result)\n",
    "print('')"
   ]
  },
  {
   "cell_type": "code",
   "execution_count": null,
   "metadata": {},
   "outputs": [],
   "source": []
  },
  {
   "cell_type": "code",
   "execution_count": null,
   "metadata": {},
   "outputs": [],
   "source": []
  }
 ],
 "metadata": {
  "kernelspec": {
   "display_name": "Python 3",
   "language": "python",
   "name": "python3"
  },
  "language_info": {
   "codemirror_mode": {
    "name": "ipython",
    "version": 3
   },
   "file_extension": ".py",
   "mimetype": "text/x-python",
   "name": "python",
   "nbconvert_exporter": "python",
   "pygments_lexer": "ipython3",
   "version": "3.6.8"
  }
 },
 "nbformat": 4,
 "nbformat_minor": 2
}
