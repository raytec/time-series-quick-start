{
 "cells": [
  {
   "cell_type": "code",
   "execution_count": 1,
   "metadata": {},
   "outputs": [],
   "source": [
    "import requests\n",
    "import json\n",
    "import datetime\n",
    "from src import weather_repository\n",
    "\n",
    "date = ''\n",
    "start_date = '2014-12-31'\n",
    "start_date = datetime.datetime.strptime(start_date, \"%Y-%m-%d\")\n",
    "    \n",
    "while date != '2018-01-01':  \n",
    "    start_date = start_date + datetime.timedelta(days=1)\n",
    "    date = start_date.strftime(\"%Y-%m-%d\")\n",
    "    \n",
    "    # response = requests.get('https://api.worldweatheronline.com/premium/v1/past-weather.ashx?q=Wroclaw&date=' + date + '&format=json&key=38870683c7fe49b5bb0121012191002')\n",
    "   # weather_repository.add_raw_weather_data(date, response.text, 71)\n"
   ]
  },
  {
   "cell_type": "code",
   "execution_count": null,
   "metadata": {},
   "outputs": [],
   "source": [
    "import requests\n",
    "import json\n",
    "import datetime\n",
    "from src import weather_repository\n",
    "\n",
    "# weather_repository.get detailed hourly data\n"
   ]
  }
 ],
 "metadata": {
  "kernelspec": {
   "display_name": "Python 3",
   "language": "python",
   "name": "python3"
  },
  "language_info": {
   "codemirror_mode": {
    "name": "ipython",
    "version": 3
   },
   "file_extension": ".py",
   "mimetype": "text/x-python",
   "name": "python",
   "nbconvert_exporter": "python",
   "pygments_lexer": "ipython3",
   "version": "3.6.8"
  }
 },
 "nbformat": 4,
 "nbformat_minor": 2
}
